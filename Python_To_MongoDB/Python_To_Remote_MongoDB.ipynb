{
 "cells": [
  {
   "cell_type": "code",
   "execution_count": 18,
   "metadata": {
    "ExecuteTime": {
     "end_time": "2022-04-12T07:49:09.771113Z",
     "start_time": "2022-04-12T07:49:09.432608Z"
    }
   },
   "outputs": [
    {
     "name": "stdout",
     "output_type": "stream",
     "text": [
      "[+] Database connected!\n"
     ]
    }
   ],
   "source": [
    "import pymongo\n",
    "\n",
    "DATABASE_NAME = \"StudentDB\"\n",
    "DATABASE_HOST = \"192.168.0.136\"\n",
    "\n",
    "DATABASE_USERNAME = \"anurag\"\n",
    "DATABASE_PASSWORD = \"anurag\"\n",
    "\n",
    "try:\n",
    "    myclient = pymongo.MongoClient( DATABASE_HOST )\n",
    "    myclient.test.authenticate( DATABASE_USERNAME , DATABASE_PASSWORD )\n",
    "    mydb = myclient[DATABASE_NAME]\n",
    "\n",
    "    print(\"[+] Database connected!\")\n",
    "except Exception as e:\n",
    "    print(\"[+] Database connection error!\")\n",
    "    raise e\n",
    "    \n",
    "    \n",
    "    \n",
    "    "
   ]
  },
  {
   "cell_type": "code",
   "execution_count": 11,
   "metadata": {
    "ExecuteTime": {
     "end_time": "2022-04-12T05:19:16.057444Z",
     "start_time": "2022-04-12T05:19:16.042446Z"
    }
   },
   "outputs": [],
   "source": [
    "mycol=mydb[\"StudentDB\"]\n",
    "for x in mycol.find():\n",
    "      print(x)"
   ]
  },
  {
   "cell_type": "code",
   "execution_count": 5,
   "metadata": {
    "ExecuteTime": {
     "end_time": "2022-04-12T05:13:46.246267Z",
     "start_time": "2022-04-12T05:13:46.233268Z"
    }
   },
   "outputs": [
    {
     "name": "stdout",
     "output_type": "stream",
     "text": [
      "['EmpDB', 'StudentDB', 'admin', 'config', 'local']\n",
      "None\n"
     ]
    }
   ],
   "source": [
    "allDatabases=print(myclient.list_database_names())\n",
    "print(allDatabases)"
   ]
  },
  {
   "cell_type": "code",
   "execution_count": null,
   "metadata": {},
   "outputs": [],
   "source": []
  }
 ],
 "metadata": {
  "kernelspec": {
   "display_name": "Python 3",
   "language": "python",
   "name": "python3"
  },
  "language_info": {
   "codemirror_mode": {
    "name": "ipython",
    "version": 3
   },
   "file_extension": ".py",
   "mimetype": "text/x-python",
   "name": "python",
   "nbconvert_exporter": "python",
   "pygments_lexer": "ipython3",
   "version": "3.8.5"
  }
 },
 "nbformat": 4,
 "nbformat_minor": 4
}
