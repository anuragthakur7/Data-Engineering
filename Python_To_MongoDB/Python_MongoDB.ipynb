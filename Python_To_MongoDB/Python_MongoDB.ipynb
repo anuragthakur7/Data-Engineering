{
 "cells": [
  {
   "cell_type": "code",
   "execution_count": 7,
   "metadata": {
    "ExecuteTime": {
     "end_time": "2022-04-11T17:24:35.962393Z",
     "start_time": "2022-04-11T17:24:33.859280Z"
    }
   },
   "outputs": [
    {
     "name": "stdout",
     "output_type": "stream",
     "text": [
      "MongoClient(host=['localhost:27017'], document_class=dict, tz_aware=False, connect=True)\n"
     ]
    }
   ],
   "source": [
    "import pymongo \n",
    "import pandas as pd  \n",
    "import json\n",
    "client = pymongo.MongoClient(\"mongodb://localhost:27017\")\n",
    "print(client)"
   ]
  },
  {
   "cell_type": "code",
   "execution_count": 15,
   "metadata": {
    "ExecuteTime": {
     "end_time": "2022-04-11T08:00:11.497521Z",
     "start_time": "2022-04-11T08:00:11.305107Z"
    }
   },
   "outputs": [
    {
     "data": {
      "text/plain": [
       "<pymongo.results.InsertOneResult at 0x1a3d2cd91c0>"
      ]
     },
     "execution_count": 15,
     "metadata": {},
     "output_type": "execute_result"
    }
   ],
   "source": [
    "# empdb = client[\"EmpDB\"]\n",
    "# empcol = mydb[\"Employees\"]\n",
    "# empdoc = {'id':107, 'name':'Anurag','depart':'DE/DS'}\n",
    "# empcol.insert_one(empdoc)"
   ]
  },
  {
   "cell_type": "code",
   "execution_count": 8,
   "metadata": {
    "ExecuteTime": {
     "end_time": "2022-04-11T17:24:39.458035Z",
     "start_time": "2022-04-11T17:24:39.416936Z"
    }
   },
   "outputs": [
    {
     "name": "stdout",
     "output_type": "stream",
     "text": [
      "['EmpDB', 'StudentDB', 'admin', 'config', 'local']\n"
     ]
    }
   ],
   "source": [
    "print(client.list_database_names())"
   ]
  },
  {
   "cell_type": "code",
   "execution_count": 9,
   "metadata": {
    "ExecuteTime": {
     "end_time": "2022-04-11T17:24:43.947167Z",
     "start_time": "2022-04-11T17:24:43.894839Z"
    }
   },
   "outputs": [
    {
     "data": {
      "text/html": [
       "<div>\n",
       "<style scoped>\n",
       "    .dataframe tbody tr th:only-of-type {\n",
       "        vertical-align: middle;\n",
       "    }\n",
       "\n",
       "    .dataframe tbody tr th {\n",
       "        vertical-align: top;\n",
       "    }\n",
       "\n",
       "    .dataframe thead th {\n",
       "        text-align: right;\n",
       "    }\n",
       "</style>\n",
       "<table border=\"1\" class=\"dataframe\">\n",
       "  <thead>\n",
       "    <tr style=\"text-align: right;\">\n",
       "      <th></th>\n",
       "      <th>age</th>\n",
       "      <th>gender</th>\n",
       "      <th>name</th>\n",
       "      <th>course</th>\n",
       "      <th>roll</th>\n",
       "      <th>marks</th>\n",
       "      <th>email</th>\n",
       "    </tr>\n",
       "  </thead>\n",
       "  <tbody>\n",
       "    <tr>\n",
       "      <th>0</th>\n",
       "      <td>28</td>\n",
       "      <td>Female</td>\n",
       "      <td>Hubert Oliveras</td>\n",
       "      <td>DB</td>\n",
       "      <td>2984</td>\n",
       "      <td>59</td>\n",
       "      <td>Annika Hoffman_Naoma Fritts@OOP.com</td>\n",
       "    </tr>\n",
       "    <tr>\n",
       "      <th>1</th>\n",
       "      <td>29</td>\n",
       "      <td>Female</td>\n",
       "      <td>Toshiko Hillyard</td>\n",
       "      <td>Cloud</td>\n",
       "      <td>12899</td>\n",
       "      <td>62</td>\n",
       "      <td>Margene Moores_Marylee Capasso@DB.com</td>\n",
       "    </tr>\n",
       "    <tr>\n",
       "      <th>2</th>\n",
       "      <td>28</td>\n",
       "      <td>Male</td>\n",
       "      <td>Celeste Lollis</td>\n",
       "      <td>PF</td>\n",
       "      <td>21267</td>\n",
       "      <td>45</td>\n",
       "      <td>Jeannetta Golden_Jenna Montague@DSA.com</td>\n",
       "    </tr>\n",
       "    <tr>\n",
       "      <th>3</th>\n",
       "      <td>29</td>\n",
       "      <td>Female</td>\n",
       "      <td>Elenore Choy</td>\n",
       "      <td>DB</td>\n",
       "      <td>32877</td>\n",
       "      <td>29</td>\n",
       "      <td>Billi Clore_Mitzi Seldon@DB.com</td>\n",
       "    </tr>\n",
       "    <tr>\n",
       "      <th>4</th>\n",
       "      <td>28</td>\n",
       "      <td>Male</td>\n",
       "      <td>Sheryll Towler</td>\n",
       "      <td>DSA</td>\n",
       "      <td>41487</td>\n",
       "      <td>41</td>\n",
       "      <td>Claude Panos_Judie Chipps@OOP.com</td>\n",
       "    </tr>\n",
       "  </tbody>\n",
       "</table>\n",
       "</div>"
      ],
      "text/plain": [
       "   age  gender              name course   roll  marks  \\\n",
       "0   28  Female   Hubert Oliveras     DB   2984     59   \n",
       "1   29  Female  Toshiko Hillyard  Cloud  12899     62   \n",
       "2   28    Male    Celeste Lollis     PF  21267     45   \n",
       "3   29  Female      Elenore Choy     DB  32877     29   \n",
       "4   28    Male    Sheryll Towler    DSA  41487     41   \n",
       "\n",
       "                                     email  \n",
       "0      Annika Hoffman_Naoma Fritts@OOP.com  \n",
       "1    Margene Moores_Marylee Capasso@DB.com  \n",
       "2  Jeannetta Golden_Jenna Montague@DSA.com  \n",
       "3          Billi Clore_Mitzi Seldon@DB.com  \n",
       "4        Claude Panos_Judie Chipps@OOP.com  "
      ]
     },
     "execution_count": 9,
     "metadata": {},
     "output_type": "execute_result"
    }
   ],
   "source": [
    "df=pd.read_csv(r\"StudentData.csv\", error_bad_lines=False)\n",
    "df.head()"
   ]
  },
  {
   "cell_type": "code",
   "execution_count": 10,
   "metadata": {
    "ExecuteTime": {
     "end_time": "2022-04-11T17:24:47.322353Z",
     "start_time": "2022-04-11T17:24:47.297350Z"
    }
   },
   "outputs": [
    {
     "data": {
      "text/html": [
       "<div>\n",
       "<style scoped>\n",
       "    .dataframe tbody tr th:only-of-type {\n",
       "        vertical-align: middle;\n",
       "    }\n",
       "\n",
       "    .dataframe tbody tr th {\n",
       "        vertical-align: top;\n",
       "    }\n",
       "\n",
       "    .dataframe thead th {\n",
       "        text-align: right;\n",
       "    }\n",
       "</style>\n",
       "<table border=\"1\" class=\"dataframe\">\n",
       "  <thead>\n",
       "    <tr style=\"text-align: right;\">\n",
       "      <th></th>\n",
       "      <th>age</th>\n",
       "      <th>gender</th>\n",
       "      <th>name</th>\n",
       "      <th>course</th>\n",
       "      <th>roll</th>\n",
       "      <th>marks</th>\n",
       "      <th>email</th>\n",
       "    </tr>\n",
       "  </thead>\n",
       "  <tbody>\n",
       "    <tr>\n",
       "      <th>995</th>\n",
       "      <td>28</td>\n",
       "      <td>Female</td>\n",
       "      <td>Celeste Lollis</td>\n",
       "      <td>DB</td>\n",
       "      <td>9952416</td>\n",
       "      <td>59</td>\n",
       "      <td>Gonzalo Ferebee_Jalisa Swenson@DB.com</td>\n",
       "    </tr>\n",
       "    <tr>\n",
       "      <th>996</th>\n",
       "      <td>29</td>\n",
       "      <td>Female</td>\n",
       "      <td>Somer Stoecker</td>\n",
       "      <td>Cloud</td>\n",
       "      <td>9962277</td>\n",
       "      <td>84</td>\n",
       "      <td>Clementina Menke_Paris Hutton@OOP.com</td>\n",
       "    </tr>\n",
       "    <tr>\n",
       "      <th>997</th>\n",
       "      <td>28</td>\n",
       "      <td>Male</td>\n",
       "      <td>Tamera Blakley</td>\n",
       "      <td>DSA</td>\n",
       "      <td>9971217</td>\n",
       "      <td>26</td>\n",
       "      <td>Anna Santos_Claude Panos@PF.com</td>\n",
       "    </tr>\n",
       "    <tr>\n",
       "      <th>998</th>\n",
       "      <td>28</td>\n",
       "      <td>Female</td>\n",
       "      <td>Tamera Blakley</td>\n",
       "      <td>MVC</td>\n",
       "      <td>9982779</td>\n",
       "      <td>71</td>\n",
       "      <td>Toshiko Hillyard_Anna Santos@DSA.com</td>\n",
       "    </tr>\n",
       "    <tr>\n",
       "      <th>999</th>\n",
       "      <td>29</td>\n",
       "      <td>Female</td>\n",
       "      <td>Jenna Montague</td>\n",
       "      <td>PF</td>\n",
       "      <td>9991617</td>\n",
       "      <td>23</td>\n",
       "      <td>Anna Santos_Jenna Montague@DB.com</td>\n",
       "    </tr>\n",
       "  </tbody>\n",
       "</table>\n",
       "</div>"
      ],
      "text/plain": [
       "     age  gender            name course     roll  marks  \\\n",
       "995   28  Female  Celeste Lollis     DB  9952416     59   \n",
       "996   29  Female  Somer Stoecker  Cloud  9962277     84   \n",
       "997   28    Male  Tamera Blakley    DSA  9971217     26   \n",
       "998   28  Female  Tamera Blakley    MVC  9982779     71   \n",
       "999   29  Female  Jenna Montague     PF  9991617     23   \n",
       "\n",
       "                                     email  \n",
       "995  Gonzalo Ferebee_Jalisa Swenson@DB.com  \n",
       "996  Clementina Menke_Paris Hutton@OOP.com  \n",
       "997        Anna Santos_Claude Panos@PF.com  \n",
       "998   Toshiko Hillyard_Anna Santos@DSA.com  \n",
       "999      Anna Santos_Jenna Montague@DB.com  "
      ]
     },
     "execution_count": 10,
     "metadata": {},
     "output_type": "execute_result"
    }
   ],
   "source": [
    "data=df.to_dict(orient='records')\n",
    "df.tail()"
   ]
  },
  {
   "cell_type": "code",
   "execution_count": 11,
   "metadata": {
    "ExecuteTime": {
     "end_time": "2022-04-11T17:24:51.742049Z",
     "start_time": "2022-04-11T17:24:51.733050Z"
    }
   },
   "outputs": [],
   "source": [
    "studDB = client['StudentDB']"
   ]
  },
  {
   "cell_type": "code",
   "execution_count": 12,
   "metadata": {
    "ExecuteTime": {
     "end_time": "2022-04-11T17:24:54.522448Z",
     "start_time": "2022-04-11T17:24:54.357149Z"
    }
   },
   "outputs": [
    {
     "data": {
      "text/plain": [
       "<pymongo.results.InsertManyResult at 0x1bb836ce8c0>"
      ]
     },
     "execution_count": 12,
     "metadata": {},
     "output_type": "execute_result"
    }
   ],
   "source": [
    "studDB.Student.insert_many(data)"
   ]
  },
  {
   "cell_type": "code",
   "execution_count": 13,
   "metadata": {
    "ExecuteTime": {
     "end_time": "2022-04-11T17:24:58.308630Z",
     "start_time": "2022-04-11T17:24:58.125802Z"
    }
   },
   "outputs": [
    {
     "ename": "TypeError",
     "evalue": "'Collection' object is not callable. If you meant to call the 'find' method on a 'Database' object it is failing because no such method exists.",
     "output_type": "error",
     "traceback": [
      "\u001b[1;31m---------------------------------------------------------------------------\u001b[0m",
      "\u001b[1;31mTypeError\u001b[0m                                 Traceback (most recent call last)",
      "\u001b[1;32m<ipython-input-13-4bcebdc82e5f>\u001b[0m in \u001b[0;36m<module>\u001b[1;34m\u001b[0m\n\u001b[1;32m----> 1\u001b[1;33m \u001b[0mc\u001b[0m\u001b[1;33m=\u001b[0m\u001b[0mstudDB\u001b[0m\u001b[1;33m.\u001b[0m\u001b[0mfind\u001b[0m\u001b[1;33m(\u001b[0m\u001b[1;33m{\u001b[0m\u001b[1;34m'course'\u001b[0m\u001b[1;33m:\u001b[0m\u001b[1;34m'DB'\u001b[0m\u001b[1;33m}\u001b[0m\u001b[1;33m)\u001b[0m\u001b[1;33m\u001b[0m\u001b[1;33m\u001b[0m\u001b[0m\n\u001b[0m\u001b[0;32m      2\u001b[0m \u001b[1;32mfor\u001b[0m \u001b[0mi\u001b[0m \u001b[1;32min\u001b[0m \u001b[0mc\u001b[0m\u001b[1;33m:\u001b[0m\u001b[1;33m\u001b[0m\u001b[1;33m\u001b[0m\u001b[0m\n\u001b[0;32m      3\u001b[0m     \u001b[0mprint\u001b[0m\u001b[1;33m(\u001b[0m\u001b[0mi\u001b[0m\u001b[1;33m)\u001b[0m\u001b[1;33m\u001b[0m\u001b[1;33m\u001b[0m\u001b[0m\n",
      "\u001b[1;32m~\\anaconda3\\lib\\site-packages\\pymongo\\collection.py\u001b[0m in \u001b[0;36m__call__\u001b[1;34m(self, *args, **kwargs)\u001b[0m\n\u001b[0;32m   3438\u001b[0m         \"\"\"\n\u001b[0;32m   3439\u001b[0m         \u001b[1;32mif\u001b[0m \u001b[1;34m\".\"\u001b[0m \u001b[1;32mnot\u001b[0m \u001b[1;32min\u001b[0m \u001b[0mself\u001b[0m\u001b[1;33m.\u001b[0m\u001b[0m__name\u001b[0m\u001b[1;33m:\u001b[0m\u001b[1;33m\u001b[0m\u001b[1;33m\u001b[0m\u001b[0m\n\u001b[1;32m-> 3440\u001b[1;33m             raise TypeError(\"'Collection' object is not callable. If you \"\n\u001b[0m\u001b[0;32m   3441\u001b[0m                             \u001b[1;34m\"meant to call the '%s' method on a 'Database' \"\u001b[0m\u001b[1;33m\u001b[0m\u001b[1;33m\u001b[0m\u001b[0m\n\u001b[0;32m   3442\u001b[0m                             \u001b[1;34m\"object it is failing because no such method \"\u001b[0m\u001b[1;33m\u001b[0m\u001b[1;33m\u001b[0m\u001b[0m\n",
      "\u001b[1;31mTypeError\u001b[0m: 'Collection' object is not callable. If you meant to call the 'find' method on a 'Database' object it is failing because no such method exists."
     ]
    }
   ],
   "source": [
    "c=studDB.find({'course':'DB'})\n",
    "for i in c:\n",
    "    print(i)"
   ]
  },
  {
   "cell_type": "code",
   "execution_count": null,
   "metadata": {},
   "outputs": [],
   "source": []
  }
 ],
 "metadata": {
  "kernelspec": {
   "display_name": "Python 3",
   "language": "python",
   "name": "python3"
  },
  "language_info": {
   "codemirror_mode": {
    "name": "ipython",
    "version": 3
   },
   "file_extension": ".py",
   "mimetype": "text/x-python",
   "name": "python",
   "nbconvert_exporter": "python",
   "pygments_lexer": "ipython3",
   "version": "3.8.5"
  }
 },
 "nbformat": 4,
 "nbformat_minor": 4
}
