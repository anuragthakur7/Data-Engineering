{
 "cells": [
  {
   "cell_type": "markdown",
   "metadata": {},
   "source": [
    "## Load_Restaurant"
   ]
  },
  {
   "cell_type": "code",
   "execution_count": 1,
   "metadata": {},
   "outputs": [
    {
     "name": "stdout",
     "output_type": "stream",
     "text": [
      "Requirement already satisfied: pyodbc in c:\\users\\admin\\anaconda3\\lib\\site-packages (4.0.0-unsupported)\n",
      "Note: you may need to restart the kernel to use updated packages.\n"
     ]
    }
   ],
   "source": [
    "pip install pyodbc"
   ]
  },
  {
   "cell_type": "code",
   "execution_count": 2,
   "metadata": {},
   "outputs": [],
   "source": [
    "import pyodbc\n",
    "import pandas as pd\n"
   ]
  },
  {
   "cell_type": "code",
   "execution_count": 3,
   "metadata": {},
   "outputs": [
    {
     "data": {
      "text/plain": [
       "['SQL Server',\n",
       " 'PostgreSQL ANSI(x64)',\n",
       " 'PostgreSQL Unicode(x64)',\n",
       " 'Amazon Redshift (x64)',\n",
       " 'SQL Server Native Client 11.0',\n",
       " 'SQL Server Native Client RDA 11.0',\n",
       " 'ODBC Driver 17 for SQL Server']"
      ]
     },
     "execution_count": 3,
     "metadata": {},
     "output_type": "execute_result"
    }
   ],
   "source": [
    "pyodbc.drivers()"
   ]
  },
  {
   "cell_type": "code",
   "execution_count": 4,
   "metadata": {},
   "outputs": [],
   "source": [
    "conn = pyodbc.connect(\n",
    "    Trusted_Connection='Yes',\n",
    "    Driver=' {ODBC Driver 17 for SQL Server}',\n",
    "    Server='DESKTOP-QFU7Q90\\SQLEXPRESS',\n",
    "    Database='testdatabase'\n",
    ")\n",
    "cursor = conn. cursor()\n"
   ]
  },
  {
   "cell_type": "code",
   "execution_count": 5,
   "metadata": {},
   "outputs": [],
   "source": [
    "data=pd.read_excel(r\"C:\\Users\\admin\\Desktop\\EY Assesment\\PBI_Restaurant_in_India.xlsx\",sheet_name = \"Restaurant\")"
   ]
  },
  {
   "cell_type": "code",
   "execution_count": 6,
   "metadata": {},
   "outputs": [
    {
     "data": {
      "text/html": [
       "<div>\n",
       "<style scoped>\n",
       "    .dataframe tbody tr th:only-of-type {\n",
       "        vertical-align: middle;\n",
       "    }\n",
       "\n",
       "    .dataframe tbody tr th {\n",
       "        vertical-align: top;\n",
       "    }\n",
       "\n",
       "    .dataframe thead th {\n",
       "        text-align: right;\n",
       "    }\n",
       "</style>\n",
       "<table border=\"1\" class=\"dataframe\">\n",
       "  <thead>\n",
       "    <tr style=\"text-align: right;\">\n",
       "      <th></th>\n",
       "      <th>Res_Id</th>\n",
       "      <th>Rest_Name</th>\n",
       "      <th>Type</th>\n",
       "      <th>Cuisines</th>\n",
       "      <th>Timing</th>\n",
       "      <th>Services</th>\n",
       "    </tr>\n",
       "  </thead>\n",
       "  <tbody>\n",
       "    <tr>\n",
       "      <th>0</th>\n",
       "      <td>3400299</td>\n",
       "      <td>Farsanwala</td>\n",
       "      <td>['Quick Bites']</td>\n",
       "      <td>North Indian, South Indian, Mithai, Street Foo...</td>\n",
       "      <td>8:30am â€“ 10:30pm (Mon-Sun)</td>\n",
       "      <td>['Lunch', 'Takeaway Available', 'Credit Card',...</td>\n",
       "    </tr>\n",
       "    <tr>\n",
       "      <th>1</th>\n",
       "      <td>3400005</td>\n",
       "      <td>Murgi and Franky House</td>\n",
       "      <td>['Quick Bites']</td>\n",
       "      <td>North Indian, Mughlai, Rolls, Chinese, Fast Fo...</td>\n",
       "      <td>12:30PM to 12Midnight (Mon, Wed, Thu, Fri, Sat...</td>\n",
       "      <td>['Delivery', 'No Alcohol Available', 'Dinner',...</td>\n",
       "    </tr>\n",
       "    <tr>\n",
       "      <th>2</th>\n",
       "      <td>3401013</td>\n",
       "      <td>Halwai ka khajana</td>\n",
       "      <td>['Quick Bites']</td>\n",
       "      <td>Fast Food, Mithai</td>\n",
       "      <td>9:30 AM to 11 PM</td>\n",
       "      <td>['No Alcohol Available', 'Dinner', 'Takeaway A...</td>\n",
       "    </tr>\n",
       "    <tr>\n",
       "      <th>3</th>\n",
       "      <td>3400290</td>\n",
       "      <td>Halwai ka khajana</td>\n",
       "      <td>['Quick Bites']</td>\n",
       "      <td>Desserts, Bakery, Fast Food, South Indian</td>\n",
       "      <td>8am â€“ 11pm (Mon-Sun)</td>\n",
       "      <td>['Takeaway Available', 'Credit Card', 'Lunch',...</td>\n",
       "    </tr>\n",
       "    <tr>\n",
       "      <th>4</th>\n",
       "      <td>3401744</td>\n",
       "      <td>Opal Kitchen Cafe and Bar</td>\n",
       "      <td>['Casual Dining']</td>\n",
       "      <td>North Indian, Continental, Italian</td>\n",
       "      <td>11:30 AM to 11:30 PM</td>\n",
       "      <td>['Lunch', 'Serves Alcohol', 'Cash', 'Credit Ca...</td>\n",
       "    </tr>\n",
       "  </tbody>\n",
       "</table>\n",
       "</div>"
      ],
      "text/plain": [
       "    Res_Id                  Rest_Name               Type  \\\n",
       "0  3400299                 Farsanwala    ['Quick Bites']   \n",
       "1  3400005     Murgi and Franky House    ['Quick Bites']   \n",
       "2  3401013          Halwai ka khajana    ['Quick Bites']   \n",
       "3  3400290          Halwai ka khajana    ['Quick Bites']   \n",
       "4  3401744  Opal Kitchen Cafe and Bar  ['Casual Dining']   \n",
       "\n",
       "                                            Cuisines  \\\n",
       "0  North Indian, South Indian, Mithai, Street Foo...   \n",
       "1  North Indian, Mughlai, Rolls, Chinese, Fast Fo...   \n",
       "2                                  Fast Food, Mithai   \n",
       "3          Desserts, Bakery, Fast Food, South Indian   \n",
       "4                 North Indian, Continental, Italian   \n",
       "\n",
       "                                              Timing  \\\n",
       "0                       8:30am â€“ 10:30pm (Mon-Sun)   \n",
       "1  12:30PM to 12Midnight (Mon, Wed, Thu, Fri, Sat...   \n",
       "2                                   9:30 AM to 11 PM   \n",
       "3                             8am â€“ 11pm (Mon-Sun)   \n",
       "4                               11:30 AM to 11:30 PM   \n",
       "\n",
       "                                            Services  \n",
       "0  ['Lunch', 'Takeaway Available', 'Credit Card',...  \n",
       "1  ['Delivery', 'No Alcohol Available', 'Dinner',...  \n",
       "2  ['No Alcohol Available', 'Dinner', 'Takeaway A...  \n",
       "3  ['Takeaway Available', 'Credit Card', 'Lunch',...  \n",
       "4  ['Lunch', 'Serves Alcohol', 'Cash', 'Credit Ca...  "
      ]
     },
     "execution_count": 6,
     "metadata": {},
     "output_type": "execute_result"
    }
   ],
   "source": [
    "data.head()"
   ]
  },
  {
   "cell_type": "code",
   "execution_count": 7,
   "metadata": {},
   "outputs": [
    {
     "name": "stdout",
     "output_type": "stream",
     "text": [
      "Rows     : 211944\n",
      "Columns  : 6\n",
      "\n",
      "Features :\n",
      "     : ['Res_Id', 'Rest_Name', 'Type', 'Cuisines', 'Timing', 'Services']\n",
      "\n",
      "Missing values    : 5265\n",
      "\n",
      "Unique values :  \n",
      " Res_Id       55568\n",
      "Rest_Name    41097\n",
      "Type            27\n",
      "Cuisines      9382\n",
      "Timing        7740\n",
      "Services     31455\n",
      "dtype: int64\n",
      "\n",
      "Statical Measure of the data set   :\n",
      "              Res_Id\n",
      "count  2.119440e+05\n",
      "mean   1.349411e+07\n",
      "std    7.883722e+06\n",
      "min    5.000000e+01\n",
      "25%    3.301027e+06\n",
      "50%    1.869573e+07\n",
      "75%    1.881297e+07\n",
      "max    1.915979e+07\n"
     ]
    }
   ],
   "source": [
    "print('Rows     :',data.shape[0])\n",
    "print('Columns  :',data.shape[1])\n",
    "print('\\nFeatures :\\n     :',data.columns.tolist())\n",
    "print('\\nMissing values    :',data.isnull().values.sum()) #for finding null values in the following dataset.\n",
    "print('\\nUnique values :  \\n',data.nunique())\n",
    "print('\\nStatical Measure of the data set   :\\n',data.describe()) # Statically computed values of the dataset."
   ]
  },
  {
   "cell_type": "code",
   "execution_count": 8,
   "metadata": {},
   "outputs": [
    {
     "data": {
      "text/plain": [
       "Res_Id          0\n",
       "Rest_Name       0\n",
       "Type            0\n",
       "Cuisines     1391\n",
       "Timing       3874\n",
       "Services        0\n",
       "dtype: int64"
      ]
     },
     "execution_count": 8,
     "metadata": {},
     "output_type": "execute_result"
    }
   ],
   "source": [
    "#Null Check\n",
    "data.isnull().sum()"
   ]
  },
  {
   "cell_type": "code",
   "execution_count": 9,
   "metadata": {},
   "outputs": [],
   "source": [
    "df = data.fillna(0)"
   ]
  },
  {
   "cell_type": "code",
   "execution_count": 10,
   "metadata": {},
   "outputs": [
    {
     "data": {
      "text/plain": [
       "Res_Id       0\n",
       "Rest_Name    0\n",
       "Type         0\n",
       "Cuisines     0\n",
       "Timing       0\n",
       "Services     0\n",
       "dtype: int64"
      ]
     },
     "execution_count": 10,
     "metadata": {},
     "output_type": "execute_result"
    }
   ],
   "source": [
    "#Null Check\n",
    "df.isnull().sum()"
   ]
  },
  {
   "cell_type": "code",
   "execution_count": 11,
   "metadata": {},
   "outputs": [
    {
     "data": {
      "text/plain": [
       "<pyodbc.Cursor at 0x164d164b8b0>"
      ]
     },
     "execution_count": 11,
     "metadata": {},
     "output_type": "execute_result"
    }
   ],
   "source": [
    "cursor.execute(\"CREATE TABLE Restraunt(Res_Id int,Rest_Name varchar(200), Type varchar(200), Cuisines varchar(200), Timing varchar(1000),Services varchar(1000))\")"
   ]
  },
  {
   "cell_type": "code",
   "execution_count": 12,
   "metadata": {},
   "outputs": [],
   "source": [
    "for row in df.itertuples():\n",
    "    cursor.execute('''\n",
    "    INSERT INTO testdatabase.dbo.Restraunt(Res_Id, Rest_Name, Type, Cuisines, Timing, Services)\n",
    "    VALUES(?,?,?,?,?,?)\n",
    "    ''',\n",
    "    row.Res_Id,\n",
    "    row.Rest_Name,\n",
    "    row.Type,\n",
    "    row.Cuisines,\n",
    "    row.Timing,\n",
    "    row.Services               \n",
    "    )\n",
    "conn.commit()\n"
   ]
  },
  {
   "cell_type": "markdown",
   "metadata": {},
   "source": [
    "## Load_Factors "
   ]
  },
  {
   "cell_type": "code",
   "execution_count": 4,
   "metadata": {},
   "outputs": [],
   "source": [
    "import pyodbc\n",
    "import pandas as pd"
   ]
  },
  {
   "cell_type": "code",
   "execution_count": 5,
   "metadata": {},
   "outputs": [
    {
     "data": {
      "text/plain": [
       "['SQL Server',\n",
       " 'PostgreSQL ANSI(x64)',\n",
       " 'PostgreSQL Unicode(x64)',\n",
       " 'Amazon Redshift (x64)',\n",
       " 'SQL Server Native Client 11.0',\n",
       " 'SQL Server Native Client RDA 11.0',\n",
       " 'ODBC Driver 17 for SQL Server']"
      ]
     },
     "execution_count": 5,
     "metadata": {},
     "output_type": "execute_result"
    }
   ],
   "source": [
    "pyodbc.drivers()"
   ]
  },
  {
   "cell_type": "code",
   "execution_count": 6,
   "metadata": {},
   "outputs": [],
   "source": [
    "conn = pyodbc.connect(\n",
    "    Trusted_Connection='Yes',\n",
    "    Driver=' {ODBC Driver 17 for SQL Server}',\n",
    "    Server='DESKTOP-QFU7Q90\\SQLEXPRESS',\n",
    "    Database='testdatabase'\n",
    ")\n",
    "cursor = conn. cursor()"
   ]
  },
  {
   "cell_type": "code",
   "execution_count": 8,
   "metadata": {},
   "outputs": [],
   "source": [
    "df1=pd.read_excel(r\"C:\\Users\\admin\\Desktop\\EY Assesment\\PBI_Restaurant_in_India.xlsx\",sheet_name = \"Factors\")"
   ]
  },
  {
   "cell_type": "code",
   "execution_count": 9,
   "metadata": {},
   "outputs": [
    {
     "data": {
      "text/html": [
       "<div>\n",
       "<style scoped>\n",
       "    .dataframe tbody tr th:only-of-type {\n",
       "        vertical-align: middle;\n",
       "    }\n",
       "\n",
       "    .dataframe tbody tr th {\n",
       "        vertical-align: top;\n",
       "    }\n",
       "\n",
       "    .dataframe thead th {\n",
       "        text-align: right;\n",
       "    }\n",
       "</style>\n",
       "<table border=\"1\" class=\"dataframe\">\n",
       "  <thead>\n",
       "    <tr style=\"text-align: right;\">\n",
       "      <th></th>\n",
       "      <th>Res_Id</th>\n",
       "      <th>Rest_Name</th>\n",
       "      <th>Average_Cost_Two</th>\n",
       "      <th>Price_Range</th>\n",
       "      <th>Aggregate_Rating</th>\n",
       "      <th>Rating_Text</th>\n",
       "      <th>Votes</th>\n",
       "      <th>Photo_Count</th>\n",
       "      <th>Outdoor_Dining</th>\n",
       "      <th>Delivery</th>\n",
       "      <th>Takeaway</th>\n",
       "    </tr>\n",
       "  </thead>\n",
       "  <tbody>\n",
       "    <tr>\n",
       "      <th>0</th>\n",
       "      <td>3400299</td>\n",
       "      <td>Farsanwala</td>\n",
       "      <td>700</td>\n",
       "      <td>2</td>\n",
       "      <td>4.4</td>\n",
       "      <td>Very Good</td>\n",
       "      <td>814</td>\n",
       "      <td>154</td>\n",
       "      <td>0</td>\n",
       "      <td>0</td>\n",
       "      <td>1</td>\n",
       "    </tr>\n",
       "    <tr>\n",
       "      <th>1</th>\n",
       "      <td>3400005</td>\n",
       "      <td>Murgi and Franky House</td>\n",
       "      <td>600</td>\n",
       "      <td>2</td>\n",
       "      <td>4.4</td>\n",
       "      <td>Very Good</td>\n",
       "      <td>1203</td>\n",
       "      <td>161</td>\n",
       "      <td>0</td>\n",
       "      <td>1</td>\n",
       "      <td>1</td>\n",
       "    </tr>\n",
       "    <tr>\n",
       "      <th>2</th>\n",
       "      <td>3401013</td>\n",
       "      <td>Halwai ka khajana</td>\n",
       "      <td>300</td>\n",
       "      <td>1</td>\n",
       "      <td>4.2</td>\n",
       "      <td>Very Good</td>\n",
       "      <td>801</td>\n",
       "      <td>107</td>\n",
       "      <td>1</td>\n",
       "      <td>1</td>\n",
       "      <td>1</td>\n",
       "    </tr>\n",
       "    <tr>\n",
       "      <th>3</th>\n",
       "      <td>3400290</td>\n",
       "      <td>Halwai ka khajana</td>\n",
       "      <td>300</td>\n",
       "      <td>1</td>\n",
       "      <td>4.3</td>\n",
       "      <td>Very Good</td>\n",
       "      <td>693</td>\n",
       "      <td>157</td>\n",
       "      <td>0</td>\n",
       "      <td>1</td>\n",
       "      <td>1</td>\n",
       "    </tr>\n",
       "    <tr>\n",
       "      <th>4</th>\n",
       "      <td>3401744</td>\n",
       "      <td>Opal Kitchen Cafe and Bar</td>\n",
       "      <td>1000</td>\n",
       "      <td>3</td>\n",
       "      <td>4.9</td>\n",
       "      <td>Excellent</td>\n",
       "      <td>470</td>\n",
       "      <td>291</td>\n",
       "      <td>1</td>\n",
       "      <td>0</td>\n",
       "      <td>0</td>\n",
       "    </tr>\n",
       "  </tbody>\n",
       "</table>\n",
       "</div>"
      ],
      "text/plain": [
       "    Res_Id                  Rest_Name  Average_Cost_Two  Price_Range  \\\n",
       "0  3400299                 Farsanwala               700            2   \n",
       "1  3400005     Murgi and Franky House               600            2   \n",
       "2  3401013          Halwai ka khajana               300            1   \n",
       "3  3400290          Halwai ka khajana               300            1   \n",
       "4  3401744  Opal Kitchen Cafe and Bar              1000            3   \n",
       "\n",
       "   Aggregate_Rating Rating_Text  Votes  Photo_Count  Outdoor_Dining  Delivery  \\\n",
       "0               4.4   Very Good    814          154               0         0   \n",
       "1               4.4   Very Good   1203          161               0         1   \n",
       "2               4.2   Very Good    801          107               1         1   \n",
       "3               4.3   Very Good    693          157               0         1   \n",
       "4               4.9   Excellent    470          291               1         0   \n",
       "\n",
       "   Takeaway  \n",
       "0         1  \n",
       "1         1  \n",
       "2         1  \n",
       "3         1  \n",
       "4         0  "
      ]
     },
     "execution_count": 9,
     "metadata": {},
     "output_type": "execute_result"
    }
   ],
   "source": [
    "df1.head()"
   ]
  },
  {
   "cell_type": "code",
   "execution_count": 10,
   "metadata": {},
   "outputs": [
    {
     "name": "stdout",
     "output_type": "stream",
     "text": [
      "Rows     : 211944\n",
      "Columns  : 11\n",
      "\n",
      "Features :\n",
      "     : ['Res_Id', 'Rest_Name', 'Average_Cost_Two', 'Price_Range', 'Aggregate_Rating', 'Rating_Text', 'Votes', 'Photo_Count', 'Outdoor_Dining', 'Delivery', 'Takeaway']\n",
      "\n",
      "Missing values    : 0\n",
      "\n",
      "Unique values :  \n",
      " Res_Id              55568\n",
      "Rest_Name           41097\n",
      "Average_Cost_Two      145\n",
      "Price_Range             4\n",
      "Aggregate_Rating       33\n",
      "Rating_Text            39\n",
      "Votes                2644\n",
      "Photo_Count          2514\n",
      "Outdoor_Dining          2\n",
      "Delivery                2\n",
      "Takeaway                2\n",
      "dtype: int64\n",
      "\n",
      "Statical Measure of the data set   :\n",
      "              Res_Id  Average_Cost_Two    Price_Range  Aggregate_Rating  \\\n",
      "count  2.119440e+05     211944.000000  211944.000000     211944.000000   \n",
      "mean   1.349411e+07        595.812229       1.882535          3.395937   \n",
      "std    7.883722e+06        606.239363       0.892989          1.283642   \n",
      "min    5.000000e+01          0.000000       1.000000          0.000000   \n",
      "25%    3.301027e+06        250.000000       1.000000          3.300000   \n",
      "50%    1.869573e+07        400.000000       2.000000          3.800000   \n",
      "75%    1.881297e+07        700.000000       2.000000          4.100000   \n",
      "max    1.915979e+07      30000.000000       4.000000          4.900000   \n",
      "\n",
      "               Votes    Photo_Count  Outdoor_Dining       Delivery  \\\n",
      "count  211944.000000  211944.000000   211944.000000  211944.000000   \n",
      "mean      378.001864     256.971224        0.002062       0.456890   \n",
      "std       925.333370     867.668940        0.045361       0.498139   \n",
      "min       -18.000000       0.000000        0.000000       0.000000   \n",
      "25%        16.000000       3.000000        0.000000       0.000000   \n",
      "50%       100.000000      18.000000        0.000000       0.000000   \n",
      "75%       362.000000     128.000000        0.000000       1.000000   \n",
      "max     42539.000000   17702.000000        1.000000       1.000000   \n",
      "\n",
      "            Takeaway  \n",
      "count  211944.000000  \n",
      "mean        0.853726  \n",
      "std         0.353382  \n",
      "min         0.000000  \n",
      "25%         1.000000  \n",
      "50%         1.000000  \n",
      "75%         1.000000  \n",
      "max         1.000000  \n"
     ]
    }
   ],
   "source": [
    "print('Rows     :',df1.shape[0])\n",
    "print('Columns  :',df1.shape[1])\n",
    "print('\\nFeatures :\\n     :',df1.columns.tolist())\n",
    "print('\\nMissing values    :',df1.isnull().values.sum()) #for finding null values in the following dataset.\n",
    "print('\\nUnique values :  \\n',df1.nunique())\n",
    "print('\\nStatical Measure of the data set   :\\n',df1.describe()) # Statically computed values of the dataset."
   ]
  },
  {
   "cell_type": "code",
   "execution_count": 11,
   "metadata": {},
   "outputs": [
    {
     "data": {
      "text/plain": [
       "Res_Id              0\n",
       "Rest_Name           0\n",
       "Average_Cost_Two    0\n",
       "Price_Range         0\n",
       "Aggregate_Rating    0\n",
       "Rating_Text         0\n",
       "Votes               0\n",
       "Photo_Count         0\n",
       "Outdoor_Dining      0\n",
       "Delivery            0\n",
       "Takeaway            0\n",
       "dtype: int64"
      ]
     },
     "execution_count": 11,
     "metadata": {},
     "output_type": "execute_result"
    }
   ],
   "source": [
    "#Null Check\n",
    "df1.isnull().sum()"
   ]
  },
  {
   "cell_type": "code",
   "execution_count": 13,
   "metadata": {},
   "outputs": [
    {
     "data": {
      "text/plain": [
       "<pyodbc.Cursor at 0x19bc7d30830>"
      ]
     },
     "execution_count": 13,
     "metadata": {},
     "output_type": "execute_result"
    }
   ],
   "source": [
    "cursor.execute(\"CREATE TABLE Factors(Res_Id int,Rest_Name varchar(200), Average_Cost_Two varchar(200), Price_Range varchar(200), Aggregate_Rating varchar(1000),Rating_Text varchar(1000),Votes int,Photo_Count int,Outdoor_Dining int,Delivery int,Takeaway int)\")"
   ]
  },
  {
   "cell_type": "code",
   "execution_count": 16,
   "metadata": {},
   "outputs": [],
   "source": [
    "for row in df1.itertuples():\n",
    "    cursor.execute('''\n",
    "    INSERT INTO testdatabase.dbo.Factors(Res_Id, Rest_Name, Average_Cost_Two, Price_Range, Aggregate_Rating, Rating_Text, Votes, Photo_Count, Outdoor_Dining, Delivery, Takeaway)\n",
    "    VALUES(?,?,?,?,?,?,?,?,?,?,?)\n",
    "    ''',\n",
    "    row.Res_Id,\n",
    "    row.Rest_Name,\n",
    "    row.Average_Cost_Two,\n",
    "    row.Price_Range,\n",
    "    row.Aggregate_Rating,\n",
    "    row.Rating_Text,\n",
    "    row.Votes,\n",
    "    row.Photo_Count,\n",
    "    row.Outdoor_Dining,\n",
    "    row.Delivery,\n",
    "    row.Takeaway,\n",
    "    )\n",
    "conn.commit()"
   ]
  },
  {
   "cell_type": "markdown",
   "metadata": {},
   "source": [
    "## Load_Location"
   ]
  },
  {
   "cell_type": "code",
   "execution_count": 69,
   "metadata": {},
   "outputs": [],
   "source": [
    "import pyodbc\n",
    "import pandas as pd"
   ]
  },
  {
   "cell_type": "code",
   "execution_count": 70,
   "metadata": {},
   "outputs": [
    {
     "data": {
      "text/plain": [
       "['SQL Server',\n",
       " 'PostgreSQL ANSI(x64)',\n",
       " 'PostgreSQL Unicode(x64)',\n",
       " 'Amazon Redshift (x64)',\n",
       " 'SQL Server Native Client 11.0',\n",
       " 'SQL Server Native Client RDA 11.0',\n",
       " 'ODBC Driver 17 for SQL Server']"
      ]
     },
     "execution_count": 70,
     "metadata": {},
     "output_type": "execute_result"
    }
   ],
   "source": [
    "pyodbc.drivers()"
   ]
  },
  {
   "cell_type": "code",
   "execution_count": 71,
   "metadata": {},
   "outputs": [],
   "source": [
    "conn = pyodbc.connect(\n",
    "    Trusted_Connection='Yes',\n",
    "    Driver=' {ODBC Driver 17 for SQL Server}',\n",
    "    Server='DESKTOP-QFU7Q90\\SQLEXPRESS',\n",
    "    Database='testdatabase'\n",
    ")\n",
    "cursor = conn. cursor()"
   ]
  },
  {
   "cell_type": "code",
   "execution_count": 72,
   "metadata": {},
   "outputs": [],
   "source": [
    "df4=pd.read_excel(r\"C:\\Users\\admin\\Desktop\\EY Assesment\\PBI_Restaurant_in_India.xlsx\",sheet_name = \"Location\")"
   ]
  },
  {
   "cell_type": "code",
   "execution_count": 73,
   "metadata": {},
   "outputs": [
    {
     "data": {
      "text/html": [
       "<div>\n",
       "<style scoped>\n",
       "    .dataframe tbody tr th:only-of-type {\n",
       "        vertical-align: middle;\n",
       "    }\n",
       "\n",
       "    .dataframe tbody tr th {\n",
       "        vertical-align: top;\n",
       "    }\n",
       "\n",
       "    .dataframe thead th {\n",
       "        text-align: right;\n",
       "    }\n",
       "</style>\n",
       "<table border=\"1\" class=\"dataframe\">\n",
       "  <thead>\n",
       "    <tr style=\"text-align: right;\">\n",
       "      <th></th>\n",
       "      <th>Res_Id</th>\n",
       "      <th>Rest_Name</th>\n",
       "      <th>Address</th>\n",
       "      <th>City - CityID</th>\n",
       "      <th>Region</th>\n",
       "      <th>Latitude</th>\n",
       "      <th>Longitude</th>\n",
       "      <th>PinCode</th>\n",
       "      <th>Region_Verbose</th>\n",
       "    </tr>\n",
       "  </thead>\n",
       "  <tbody>\n",
       "    <tr>\n",
       "      <th>0</th>\n",
       "      <td>3400299</td>\n",
       "      <td>Farsanwala</td>\n",
       "      <td>Kalyani Point, Near Tulsi Cinema, Bypass Road,...</td>\n",
       "      <td>Agra-34</td>\n",
       "      <td>Khandari</td>\n",
       "      <td>27.211450</td>\n",
       "      <td>78.002381</td>\n",
       "      <td>NaN</td>\n",
       "      <td>Khandari, Agra</td>\n",
       "    </tr>\n",
       "    <tr>\n",
       "      <th>1</th>\n",
       "      <td>3400005</td>\n",
       "      <td>Murgi and Franky House</td>\n",
       "      <td>Main Market, Sadar Bazaar, Agra Cantt, Agra</td>\n",
       "      <td>Agra-34</td>\n",
       "      <td>Agra Cantt</td>\n",
       "      <td>27.160569</td>\n",
       "      <td>78.011583</td>\n",
       "      <td>282001</td>\n",
       "      <td>Agra Cantt, Agra</td>\n",
       "    </tr>\n",
       "    <tr>\n",
       "      <th>2</th>\n",
       "      <td>3401013</td>\n",
       "      <td>Halwai ka khajana</td>\n",
       "      <td>62/1, Near Easy Day, West Shivaji Nagar, Goalp...</td>\n",
       "      <td>Agra-34</td>\n",
       "      <td>Shahganj</td>\n",
       "      <td>27.182938</td>\n",
       "      <td>77.979684</td>\n",
       "      <td>282010</td>\n",
       "      <td>Shahganj, Agra</td>\n",
       "    </tr>\n",
       "    <tr>\n",
       "      <th>3</th>\n",
       "      <td>3400290</td>\n",
       "      <td>Halwai ka khajana</td>\n",
       "      <td>Near Anjana Cinema, Nehru Nagar, Civil Lines, ...</td>\n",
       "      <td>Agra-34</td>\n",
       "      <td>Civil Lines</td>\n",
       "      <td>27.205668</td>\n",
       "      <td>78.004799</td>\n",
       "      <td>282002</td>\n",
       "      <td>Civil Lines, Agra</td>\n",
       "    </tr>\n",
       "    <tr>\n",
       "      <th>4</th>\n",
       "      <td>3401744</td>\n",
       "      <td>Opal Kitchen Cafe and Bar</td>\n",
       "      <td>1C,3rd Floor, Fatehabad Road, Tajganj, Agra</td>\n",
       "      <td>Agra-34</td>\n",
       "      <td>Tajganj</td>\n",
       "      <td>27.157709</td>\n",
       "      <td>78.052421</td>\n",
       "      <td>NaN</td>\n",
       "      <td>Tajganj, Agra</td>\n",
       "    </tr>\n",
       "  </tbody>\n",
       "</table>\n",
       "</div>"
      ],
      "text/plain": [
       "    Res_Id                  Rest_Name  \\\n",
       "0  3400299                 Farsanwala   \n",
       "1  3400005     Murgi and Franky House   \n",
       "2  3401013          Halwai ka khajana   \n",
       "3  3400290          Halwai ka khajana   \n",
       "4  3401744  Opal Kitchen Cafe and Bar   \n",
       "\n",
       "                                             Address City - CityID  \\\n",
       "0  Kalyani Point, Near Tulsi Cinema, Bypass Road,...       Agra-34   \n",
       "1        Main Market, Sadar Bazaar, Agra Cantt, Agra       Agra-34   \n",
       "2  62/1, Near Easy Day, West Shivaji Nagar, Goalp...       Agra-34   \n",
       "3  Near Anjana Cinema, Nehru Nagar, Civil Lines, ...       Agra-34   \n",
       "4        1C,3rd Floor, Fatehabad Road, Tajganj, Agra       Agra-34   \n",
       "\n",
       "        Region   Latitude  Longitude PinCode     Region_Verbose  \n",
       "0     Khandari  27.211450  78.002381     NaN     Khandari, Agra  \n",
       "1   Agra Cantt  27.160569  78.011583  282001   Agra Cantt, Agra  \n",
       "2     Shahganj  27.182938  77.979684  282010     Shahganj, Agra  \n",
       "3  Civil Lines  27.205668  78.004799  282002  Civil Lines, Agra  \n",
       "4      Tajganj  27.157709  78.052421     NaN      Tajganj, Agra  "
      ]
     },
     "execution_count": 73,
     "metadata": {},
     "output_type": "execute_result"
    }
   ],
   "source": [
    "df4.head()"
   ]
  },
  {
   "cell_type": "code",
   "execution_count": 74,
   "metadata": {},
   "outputs": [
    {
     "name": "stdout",
     "output_type": "stream",
     "text": [
      "Rows     : 211944\n",
      "Columns  : 9\n",
      "\n",
      "Features :\n",
      "     : ['Res_Id', 'Rest_Name', 'Address', 'City - CityID', 'Region', 'Latitude', 'Longitude', 'PinCode', 'Region_Verbose']\n",
      "\n",
      "Missing values    : 163321\n",
      "\n",
      "Unique values :  \n",
      " Res_Id            55568\n",
      "Rest_Name         41097\n",
      "Address           50657\n",
      "City - CityID        99\n",
      "Region             3731\n",
      "Latitude          53356\n",
      "Longitude         53318\n",
      "PinCode            1303\n",
      "Region_Verbose     3910\n",
      "dtype: int64\n",
      "\n",
      "Statical Measure of the data set   :\n",
      "              Res_Id       Latitude      Longitude\n",
      "count  2.119440e+05  211944.000000  211944.000000\n",
      "mean   1.349411e+07      21.499758      77.615276\n",
      "std    7.883722e+06      22.781331       7.500104\n",
      "min    5.000000e+01       0.000000       0.000000\n",
      "25%    3.301027e+06      15.496071      74.877961\n",
      "50%    1.869573e+07      22.514494      77.425971\n",
      "75%    1.881297e+07      26.841667      80.219323\n",
      "max    1.915979e+07   10000.000000      91.832769\n"
     ]
    }
   ],
   "source": [
    "print('Rows     :',df4.shape[0])\n",
    "print('Columns  :',df4.shape[1])\n",
    "print('\\nFeatures :\\n     :',df4.columns.tolist())\n",
    "print('\\nMissing values    :',df4.isnull().values.sum()) #for finding null values in the following dataset.\n",
    "print('\\nUnique values :  \\n',df4.nunique())\n",
    "print('\\nStatical Measure of the data set   :\\n',df4.describe()) # Statically computed values of the dataset."
   ]
  },
  {
   "cell_type": "code",
   "execution_count": 75,
   "metadata": {},
   "outputs": [
    {
     "data": {
      "text/plain": [
       "Res_Id                 0\n",
       "Rest_Name              0\n",
       "Address              134\n",
       "City - CityID          0\n",
       "Region                 0\n",
       "Latitude               0\n",
       "Longitude              0\n",
       "PinCode           163187\n",
       "Region_Verbose         0\n",
       "dtype: int64"
      ]
     },
     "execution_count": 75,
     "metadata": {},
     "output_type": "execute_result"
    }
   ],
   "source": [
    "#Null Check\n",
    "df4.isnull().sum()"
   ]
  },
  {
   "cell_type": "code",
   "execution_count": 76,
   "metadata": {},
   "outputs": [],
   "source": [
    "df5 = df4.fillna(0)"
   ]
  },
  {
   "cell_type": "code",
   "execution_count": 77,
   "metadata": {},
   "outputs": [
    {
     "data": {
      "text/plain": [
       "Res_Id            0\n",
       "Rest_Name         0\n",
       "Address           0\n",
       "City - CityID     0\n",
       "Region            0\n",
       "Latitude          0\n",
       "Longitude         0\n",
       "PinCode           0\n",
       "Region_Verbose    0\n",
       "dtype: int64"
      ]
     },
     "execution_count": 77,
     "metadata": {},
     "output_type": "execute_result"
    }
   ],
   "source": [
    "#Null Check\n",
    "df5.isnull().sum()"
   ]
  },
  {
   "cell_type": "code",
   "execution_count": 78,
   "metadata": {},
   "outputs": [],
   "source": [
    "# Rename coloumn name\n",
    "df5.rename(columns = {'City - CityID':'CityID'}, inplace = True)"
   ]
  },
  {
   "cell_type": "code",
   "execution_count": 79,
   "metadata": {},
   "outputs": [
    {
     "data": {
      "text/html": [
       "<div>\n",
       "<style scoped>\n",
       "    .dataframe tbody tr th:only-of-type {\n",
       "        vertical-align: middle;\n",
       "    }\n",
       "\n",
       "    .dataframe tbody tr th {\n",
       "        vertical-align: top;\n",
       "    }\n",
       "\n",
       "    .dataframe thead th {\n",
       "        text-align: right;\n",
       "    }\n",
       "</style>\n",
       "<table border=\"1\" class=\"dataframe\">\n",
       "  <thead>\n",
       "    <tr style=\"text-align: right;\">\n",
       "      <th></th>\n",
       "      <th>Res_Id</th>\n",
       "      <th>Rest_Name</th>\n",
       "      <th>Address</th>\n",
       "      <th>CityID</th>\n",
       "      <th>Region</th>\n",
       "      <th>Latitude</th>\n",
       "      <th>Longitude</th>\n",
       "      <th>PinCode</th>\n",
       "      <th>Region_Verbose</th>\n",
       "    </tr>\n",
       "  </thead>\n",
       "  <tbody>\n",
       "    <tr>\n",
       "      <th>0</th>\n",
       "      <td>3400299</td>\n",
       "      <td>Farsanwala</td>\n",
       "      <td>Kalyani Point, Near Tulsi Cinema, Bypass Road,...</td>\n",
       "      <td>Agra-34</td>\n",
       "      <td>Khandari</td>\n",
       "      <td>27.211450</td>\n",
       "      <td>78.002381</td>\n",
       "      <td>0</td>\n",
       "      <td>Khandari, Agra</td>\n",
       "    </tr>\n",
       "    <tr>\n",
       "      <th>1</th>\n",
       "      <td>3400005</td>\n",
       "      <td>Murgi and Franky House</td>\n",
       "      <td>Main Market, Sadar Bazaar, Agra Cantt, Agra</td>\n",
       "      <td>Agra-34</td>\n",
       "      <td>Agra Cantt</td>\n",
       "      <td>27.160569</td>\n",
       "      <td>78.011583</td>\n",
       "      <td>282001</td>\n",
       "      <td>Agra Cantt, Agra</td>\n",
       "    </tr>\n",
       "    <tr>\n",
       "      <th>2</th>\n",
       "      <td>3401013</td>\n",
       "      <td>Halwai ka khajana</td>\n",
       "      <td>62/1, Near Easy Day, West Shivaji Nagar, Goalp...</td>\n",
       "      <td>Agra-34</td>\n",
       "      <td>Shahganj</td>\n",
       "      <td>27.182938</td>\n",
       "      <td>77.979684</td>\n",
       "      <td>282010</td>\n",
       "      <td>Shahganj, Agra</td>\n",
       "    </tr>\n",
       "    <tr>\n",
       "      <th>3</th>\n",
       "      <td>3400290</td>\n",
       "      <td>Halwai ka khajana</td>\n",
       "      <td>Near Anjana Cinema, Nehru Nagar, Civil Lines, ...</td>\n",
       "      <td>Agra-34</td>\n",
       "      <td>Civil Lines</td>\n",
       "      <td>27.205668</td>\n",
       "      <td>78.004799</td>\n",
       "      <td>282002</td>\n",
       "      <td>Civil Lines, Agra</td>\n",
       "    </tr>\n",
       "    <tr>\n",
       "      <th>4</th>\n",
       "      <td>3401744</td>\n",
       "      <td>Opal Kitchen Cafe and Bar</td>\n",
       "      <td>1C,3rd Floor, Fatehabad Road, Tajganj, Agra</td>\n",
       "      <td>Agra-34</td>\n",
       "      <td>Tajganj</td>\n",
       "      <td>27.157709</td>\n",
       "      <td>78.052421</td>\n",
       "      <td>0</td>\n",
       "      <td>Tajganj, Agra</td>\n",
       "    </tr>\n",
       "    <tr>\n",
       "      <th>...</th>\n",
       "      <td>...</td>\n",
       "      <td>...</td>\n",
       "      <td>...</td>\n",
       "      <td>...</td>\n",
       "      <td>...</td>\n",
       "      <td>...</td>\n",
       "      <td>...</td>\n",
       "      <td>...</td>\n",
       "      <td>...</td>\n",
       "    </tr>\n",
       "    <tr>\n",
       "      <th>211939</th>\n",
       "      <td>3202251</td>\n",
       "      <td>Kali Mirch Cafe And Restaurant</td>\n",
       "      <td>Manu Smriti Complex, Near Navrachna School, GI...</td>\n",
       "      <td>Vadodara-32</td>\n",
       "      <td>Fatehgunj</td>\n",
       "      <td>22.336931</td>\n",
       "      <td>73.192356</td>\n",
       "      <td>390024</td>\n",
       "      <td>Fatehgunj, Vadodara</td>\n",
       "    </tr>\n",
       "    <tr>\n",
       "      <th>211940</th>\n",
       "      <td>3200996</td>\n",
       "      <td>Raju Omlet</td>\n",
       "      <td>Mahalaxmi Apartment, Opposite B O B, Karoli Ba...</td>\n",
       "      <td>Vadodara-32</td>\n",
       "      <td>Karelibaug</td>\n",
       "      <td>22.322455</td>\n",
       "      <td>73.197203</td>\n",
       "      <td>0</td>\n",
       "      <td>Karelibaug, Vadodara</td>\n",
       "    </tr>\n",
       "    <tr>\n",
       "      <th>211941</th>\n",
       "      <td>18984164</td>\n",
       "      <td>The Grand Thakar</td>\n",
       "      <td>3rd Floor, Shreem Shalini Mall, Opposite Conqu...</td>\n",
       "      <td>Vadodara-32</td>\n",
       "      <td>Alkapuri</td>\n",
       "      <td>22.310563</td>\n",
       "      <td>73.171164</td>\n",
       "      <td>0</td>\n",
       "      <td>Alkapuri, Vadodara</td>\n",
       "    </tr>\n",
       "    <tr>\n",
       "      <th>211942</th>\n",
       "      <td>3201138</td>\n",
       "      <td>Fresh Bites</td>\n",
       "      <td>G-2, Vedant Platina, Near Cosmos, Akota, Vadodara</td>\n",
       "      <td>Vadodara-32</td>\n",
       "      <td>Akota</td>\n",
       "      <td>22.270027</td>\n",
       "      <td>73.143068</td>\n",
       "      <td>0</td>\n",
       "      <td>Akota, Vadodara</td>\n",
       "    </tr>\n",
       "    <tr>\n",
       "      <th>211943</th>\n",
       "      <td>18879846</td>\n",
       "      <td>Freshco's - The Health Cafe</td>\n",
       "      <td>Shop 7, Ground Floor, Opposite Natubhai Circle...</td>\n",
       "      <td>Vadodara-32</td>\n",
       "      <td>Vadiwadi</td>\n",
       "      <td>22.309935</td>\n",
       "      <td>73.158768</td>\n",
       "      <td>390007</td>\n",
       "      <td>Vadiwadi, Vadodara</td>\n",
       "    </tr>\n",
       "  </tbody>\n",
       "</table>\n",
       "<p>211944 rows × 9 columns</p>\n",
       "</div>"
      ],
      "text/plain": [
       "          Res_Id                       Rest_Name  \\\n",
       "0        3400299                      Farsanwala   \n",
       "1        3400005          Murgi and Franky House   \n",
       "2        3401013               Halwai ka khajana   \n",
       "3        3400290               Halwai ka khajana   \n",
       "4        3401744       Opal Kitchen Cafe and Bar   \n",
       "...          ...                             ...   \n",
       "211939   3202251  Kali Mirch Cafe And Restaurant   \n",
       "211940   3200996                      Raju Omlet   \n",
       "211941  18984164                The Grand Thakar   \n",
       "211942   3201138                     Fresh Bites   \n",
       "211943  18879846     Freshco's - The Health Cafe   \n",
       "\n",
       "                                                  Address       CityID  \\\n",
       "0       Kalyani Point, Near Tulsi Cinema, Bypass Road,...      Agra-34   \n",
       "1             Main Market, Sadar Bazaar, Agra Cantt, Agra      Agra-34   \n",
       "2       62/1, Near Easy Day, West Shivaji Nagar, Goalp...      Agra-34   \n",
       "3       Near Anjana Cinema, Nehru Nagar, Civil Lines, ...      Agra-34   \n",
       "4             1C,3rd Floor, Fatehabad Road, Tajganj, Agra      Agra-34   \n",
       "...                                                   ...          ...   \n",
       "211939  Manu Smriti Complex, Near Navrachna School, GI...  Vadodara-32   \n",
       "211940  Mahalaxmi Apartment, Opposite B O B, Karoli Ba...  Vadodara-32   \n",
       "211941  3rd Floor, Shreem Shalini Mall, Opposite Conqu...  Vadodara-32   \n",
       "211942  G-2, Vedant Platina, Near Cosmos, Akota, Vadodara  Vadodara-32   \n",
       "211943  Shop 7, Ground Floor, Opposite Natubhai Circle...  Vadodara-32   \n",
       "\n",
       "             Region   Latitude  Longitude PinCode        Region_Verbose  \n",
       "0          Khandari  27.211450  78.002381       0        Khandari, Agra  \n",
       "1        Agra Cantt  27.160569  78.011583  282001      Agra Cantt, Agra  \n",
       "2          Shahganj  27.182938  77.979684  282010        Shahganj, Agra  \n",
       "3       Civil Lines  27.205668  78.004799  282002     Civil Lines, Agra  \n",
       "4           Tajganj  27.157709  78.052421       0         Tajganj, Agra  \n",
       "...             ...        ...        ...     ...                   ...  \n",
       "211939    Fatehgunj  22.336931  73.192356  390024   Fatehgunj, Vadodara  \n",
       "211940   Karelibaug  22.322455  73.197203       0  Karelibaug, Vadodara  \n",
       "211941     Alkapuri  22.310563  73.171164       0    Alkapuri, Vadodara  \n",
       "211942        Akota  22.270027  73.143068       0       Akota, Vadodara  \n",
       "211943     Vadiwadi  22.309935  73.158768  390007    Vadiwadi, Vadodara  \n",
       "\n",
       "[211944 rows x 9 columns]"
      ]
     },
     "execution_count": 79,
     "metadata": {},
     "output_type": "execute_result"
    }
   ],
   "source": [
    "df5"
   ]
  },
  {
   "cell_type": "code",
   "execution_count": 80,
   "metadata": {},
   "outputs": [
    {
     "data": {
      "text/plain": [
       "<pyodbc.Cursor at 0x19bcea957b0>"
      ]
     },
     "execution_count": 80,
     "metadata": {},
     "output_type": "execute_result"
    }
   ],
   "source": [
    "cursor.execute(\"CREATE TABLE Load_Location(Res_Id int,Rest_Name varchar(1000), Address varchar(1000),CityID varchar(1000), Region varchar(1000),Latitude  float,Longitude  float,PinCode varchar(500),Region_Verbose varchar(1000))\")"
   ]
  },
  {
   "cell_type": "code",
   "execution_count": 64,
   "metadata": {},
   "outputs": [
    {
     "data": {
      "text/plain": [
       "Res_Id              int64\n",
       "Rest_Name          object\n",
       "Address            object\n",
       "CityID             object\n",
       "Region             object\n",
       "Latitude          float64\n",
       "Longitude         float64\n",
       "PinCode            object\n",
       "Region_Verbose     object\n",
       "dtype: object"
      ]
     },
     "execution_count": 64,
     "metadata": {},
     "output_type": "execute_result"
    }
   ],
   "source": [
    "df5.dtypes"
   ]
  },
  {
   "cell_type": "code",
   "execution_count": 81,
   "metadata": {},
   "outputs": [],
   "source": [
    "for row in df5.itertuples():\n",
    "    cursor.execute('''\n",
    "    INSERT INTO testdatabase.dbo.Load_Location(Res_Id, Rest_Name, Address, CityID, Region, Latitude, Longitude, PinCode, Region_Verbose)\n",
    "    VALUES(?,?,?,?,?,?,?,?,?)\n",
    "    ''',\n",
    "    row.Res_Id,\n",
    "    row.Rest_Name,\n",
    "    row.Address,\n",
    "    row.CityID,\n",
    "    row.Region,\n",
    "    row.Latitude,\n",
    "    row.Longitude,\n",
    "    row.PinCode,\n",
    "    row.Region_Verbose,\n",
    "    )\n",
    "conn.commit()"
   ]
  },
  {
   "cell_type": "code",
   "execution_count": null,
   "metadata": {},
   "outputs": [],
   "source": []
  }
 ],
 "metadata": {
  "kernelspec": {
   "display_name": "Python 3",
   "language": "python",
   "name": "python3"
  },
  "language_info": {
   "codemirror_mode": {
    "name": "ipython",
    "version": 3
   },
   "file_extension": ".py",
   "mimetype": "text/x-python",
   "name": "python",
   "nbconvert_exporter": "python",
   "pygments_lexer": "ipython3",
   "version": "3.8.5"
  }
 },
 "nbformat": 4,
 "nbformat_minor": 4
}
