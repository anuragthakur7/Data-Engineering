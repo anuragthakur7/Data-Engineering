{
 "cells": [
  {
   "cell_type": "code",
   "execution_count": null,
   "metadata": {
    "ExecuteTime": {
     "end_time": "2022-04-01T10:06:35.059725Z",
     "start_time": "2022-04-01T10:05:36.017813Z"
    }
   },
   "outputs": [],
   "source": [
    "import pypyodbc as odbc;\n",
    "import pandas as pd;\n",
    "import numpy as np;\n",
    "\n",
    "\n",
    "df=pd.read_csv('D:\\downloads\\Real-Time_Traffic_Incident_Reports.csv')\n",
    "\n",
    "df['Published Date']=pd.to_datetime(df['Published Date']).dt.strftime('%Y,-%m-%d %H:%M:%S')\n",
    "df['Status Date']=pd.to_datetime(df['Published Date']).dt.strftime('%Y,-%m-%d %H:%M:%S')\n",
    "\n",
    "df.drop(df.query('Location.isnull() | Status.isnull()').index, inplace=True)\n",
    "\n",
    "columns = ['Traffic Report ID', 'Published Date', 'Issue Reported', 'Location', \n",
    "            'Address', 'Status', 'Status Date']\n",
    "\n",
    "df_data = df[columns]\n",
    "records = df_data.values.tolist()\n",
    "\n",
    "\n"
   ]
  },
  {
   "cell_type": "code",
   "execution_count": null,
   "metadata": {
    "ExecuteTime": {
     "end_time": "2022-04-01T10:26:11.212236Z",
     "start_time": "2022-04-01T10:26:11.196450Z"
    }
   },
   "outputs": [],
   "source": [
    "\n",
    "DRIVER = 'SQL Server Native Client 11.0'\n",
    "SERVER_NAME = 'LAPTOP-DNFCKT4G'\n",
    "DATABASE_NAME = 'AdventureWorksLT2019'\n",
    "USERNAME = 'anurag'\n",
    "PASSWORD = 'anurag'\n",
    "\n",
    "def connection_string(driver, server_name, database_name,username,password):\n",
    "    conn_string = f'''\n",
    "        DRIVER={{{driver}}};\n",
    "        SERVER={server_name};\n",
    "        DATABASE={database_name};\n",
    "        USERNAME ='anurag';\n",
    "        PASSWORD ='anurag';\n",
    "        Trust_Connection=yes;        \n",
    "    \n",
    "    '''\n",
    "    return conn_string\n",
    "\n"
   ]
  },
  {
   "cell_type": "code",
   "execution_count": null,
   "metadata": {
    "ExecuteTime": {
     "end_time": "2022-04-01T10:26:13.397528Z",
     "start_time": "2022-04-01T10:26:13.381528Z"
    },
    "scrolled": true
   },
   "outputs": [],
   "source": [
    "try:\n",
    "    conn = odbc.connect(connection_string(DRIVER, SERVER_NAME, DATABASE_NAME,USERNAME, PASSWORD))\n",
    "except odbc.DatabaseError as e:\n",
    "    print('Database Error:')    \n",
    "    print(str(e.value[1]))\n",
    "except odbc.Error as e:\n",
    "    print('Connection Error:')\n",
    "    print(str(e.value[1]))\n",
    "    "
   ]
  },
  {
   "cell_type": "code",
   "execution_count": null,
   "metadata": {
    "ExecuteTime": {
     "end_time": "2022-04-01T10:24:03.139693Z",
     "start_time": "2022-04-01T10:24:03.125696Z"
    }
   },
   "outputs": [],
   "source": [
    "sql_insert = '''\n",
    "    \n",
    "    INSERT INTO Austin_Traffic_Incident \n",
    "    VALUES (?, ?, ?, ?, ?, ?, ?, GETDATE())\n",
    "    \n",
    "'''"
   ]
  },
  {
   "cell_type": "code",
   "execution_count": null,
   "metadata": {
    "ExecuteTime": {
     "end_time": "2022-04-01T10:24:05.046209Z",
     "start_time": "2022-04-01T10:24:05.013924Z"
    }
   },
   "outputs": [],
   "source": [
    "try:\n",
    "    cursor = conn.cursor()\n",
    "    cursor.executemany(sql_insert, records)\n",
    "    cursor.commit();    \n",
    "except Exception as e:\n",
    "    cursor.rollback()\n",
    "    print(str(e[1]))\n",
    "finally:\n",
    "    print('Task is complete.')\n",
    "    cursor.close()\n",
    "    conn.close()"
   ]
  },
  {
   "cell_type": "code",
   "execution_count": null,
   "metadata": {},
   "outputs": [],
   "source": []
  }
 ],
 "metadata": {
  "kernelspec": {
   "display_name": "Python 3",
   "language": "python",
   "name": "python3"
  },
  "language_info": {
   "codemirror_mode": {
    "name": "ipython",
    "version": 3
   },
   "file_extension": ".py",
   "mimetype": "text/x-python",
   "name": "python",
   "nbconvert_exporter": "python",
   "pygments_lexer": "ipython3",
   "version": "3.8.5"
  }
 },
 "nbformat": 4,
 "nbformat_minor": 4
}
